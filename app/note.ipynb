{
 "cells": [
  {
   "cell_type": "code",
   "execution_count": 4,
   "metadata": {},
   "outputs": [
    {
     "data": {
      "text/plain": [
       "[{'Rank': '28',\n",
       "  'CCA3': 'COL',\n",
       "  'Country/Territory': 'Colombia',\n",
       "  'Capital': 'Bogota',\n",
       "  'Continent': 'South America',\n",
       "  '2022 Population': '51874024',\n",
       "  '2020 Population': '50930662',\n",
       "  '2015 Population': '47119728',\n",
       "  '2010 Population': '44816108',\n",
       "  '2000 Population': '39215135',\n",
       "  '1990 Population': '32601393',\n",
       "  '1980 Population': '26176195',\n",
       "  '1970 Population': '20905254',\n",
       "  'Area (kmÂ²)': '1141748',\n",
       "  'Density (per kmÂ²)': '45.4339',\n",
       "  'Growth Rate': '1.0069',\n",
       "  'World Population Percentage': '0.65'}]"
      ]
     },
     "execution_count": 4,
     "metadata": {},
     "output_type": "execute_result"
    }
   ],
   "source": [
    "import read_csv\n",
    "\n",
    "data = read_csv.read_csv('./data/world_population.csv')\n",
    "\n",
    "def population_by_country(data, country):\n",
    "  result = list(filter(lambda item: item['Country/Territory'] == country, data))\n",
    "  return result\n",
    "\n",
    "population_by_country(data, \"Colombia\")"
   ]
  }
 ],
 "metadata": {
  "kernelspec": {
   "display_name": "Python 3",
   "language": "python",
   "name": "python3"
  },
  "language_info": {
   "codemirror_mode": {
    "name": "ipython",
    "version": 3
   },
   "file_extension": ".py",
   "mimetype": "text/x-python",
   "name": "python",
   "nbconvert_exporter": "python",
   "pygments_lexer": "ipython3",
   "version": "3.11.2"
  },
  "orig_nbformat": 4,
  "vscode": {
   "interpreter": {
    "hash": "5a4ff0ac9273ea83fef80798ed945f86cf1169b4032569b6402608bb3831eee1"
   }
  }
 },
 "nbformat": 4,
 "nbformat_minor": 2
}
